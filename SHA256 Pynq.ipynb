{
 "cells": [
  {
   "cell_type": "markdown",
   "id": "4370a55c-859a-477e-9074-21d0bf521a09",
   "metadata": {},
   "source": [
    "## Configure hardware\n",
    "\n",
    "Program in the bitstream overlay"
   ]
  },
  {
   "cell_type": "code",
   "execution_count": 1,
   "id": "83083fed-d13e-49e9-ae4d-4b2d1f8fee27",
   "metadata": {
    "tags": []
   },
   "outputs": [
    {
     "data": {
      "application/javascript": [
       "\n",
       "try {\n",
       "require(['notebook/js/codecell'], function(codecell) {\n",
       "  codecell.CodeCell.options_default.highlight_modes[\n",
       "      'magic_text/x-csrc'] = {'reg':[/^%%microblaze/]};\n",
       "  Jupyter.notebook.events.one('kernel_ready.Kernel', function(){\n",
       "      Jupyter.notebook.get_cells().map(function(cell){\n",
       "          if (cell.cell_type == 'code'){ cell.auto_highlight(); } }) ;\n",
       "  });\n",
       "});\n",
       "} catch (e) {};\n"
      ]
     },
     "metadata": {},
     "output_type": "display_data"
    },
    {
     "data": {
      "application/javascript": [
       "\n",
       "try {\n",
       "require(['notebook/js/codecell'], function(codecell) {\n",
       "  codecell.CodeCell.options_default.highlight_modes[\n",
       "      'magic_text/x-csrc'] = {'reg':[/^%%pybind11/]};\n",
       "  Jupyter.notebook.events.one('kernel_ready.Kernel', function(){\n",
       "      Jupyter.notebook.get_cells().map(function(cell){\n",
       "          if (cell.cell_type == 'code'){ cell.auto_highlight(); } }) ;\n",
       "  });\n",
       "});\n",
       "} catch (e) {};\n"
      ]
     },
     "metadata": {},
     "output_type": "display_data"
    }
   ],
   "source": [
    "from pynq import Overlay\n",
    "from pynq import allocate"
   ]
  },
  {
   "cell_type": "code",
   "execution_count": 2,
   "id": "d1e97fc4-e7a0-4a74-be68-8c315a79e7c4",
   "metadata": {},
   "outputs": [],
   "source": [
    "overlay = Overlay('/home/root/jupyter_notebooks/sha256accelerator.bit')\n",
    "\n",
    "ip = overlay.hash_0\n",
    "mmio = ip.mmio\n",
    "register_map = ip.register_map\n",
    "registers = register_map._register_classes"
   ]
  },
  {
   "cell_type": "markdown",
   "id": "2d4ee066-48b3-4940-9e0c-74c018cd9a8c",
   "metadata": {},
   "source": [
    "## Memory mapping\n",
    "\n",
    "See available registers available. Allocate buffer for PL to access the text input on the PS. Map memory location for PS to access results on the PL."
   ]
  },
  {
   "cell_type": "code",
   "execution_count": 3,
   "id": "40c51d3b-8f64-4fcb-a0aa-2b8364018722",
   "metadata": {},
   "outputs": [
    {
     "name": "stdout",
     "output_type": "stream",
     "text": [
      "CTRL (<class 'pynq.registers.RegisterCTRL'>, 0, 32, None, None, 'read-write')\n",
      "GIER (<class 'pynq.registers.RegisterGIER'>, 4, 32, None, None, 'read-write')\n",
      "IP_IER (<class 'pynq.registers.RegisterIP_IER'>, 8, 32, None, None, 'read-write')\n",
      "IP_ISR (<class 'pynq.registers.RegisterIP_ISR'>, 12, 32, None, None, 'read-write')\n",
      "ap_return (<class 'pynq.registers.Registerap_return'>, 16, 32, None, None, 'read-only')\n",
      "text_length (<class 'pynq.registers.Registertext_length'>, 24, 32, None, None, 'write-only')\n",
      "text_input_1 (<class 'pynq.registers.Registertext_input_1'>, 32, 32, None, None, 'write-only')\n",
      "text_input_2 (<class 'pynq.registers.Registertext_input_2'>, 36, 32, None, None, 'write-only')\n",
      "Memory_result (<class 'pynq.registers.RegisterMemory_result'>, 64, 32, None, None, 'read-write')\n"
     ]
    }
   ],
   "source": [
    "# Show all registers available\n",
    "for name, reg in registers.items():\n",
    "    print(name, reg)"
   ]
  },
  {
   "cell_type": "code",
   "execution_count": 4,
   "id": "f9348183-23bd-4dd0-ab6e-ff0a61d43e5c",
   "metadata": {},
   "outputs": [],
   "source": [
    "# Register location (axilite)\n",
    "result_addr = register_map.Memory_result.address // 4\n",
    "result_size = register_map.Memory_result.width // 4\n",
    "result_val = mmio.array[result_addr:result_addr+result_size]\n",
    "\n",
    "# Allocated buffer (m_axi)\n",
    "input_buffer_size = 1024\n",
    "input_buffer = allocate(shape=(input_buffer_size,), dtype='u1', cacheable=False) # unsigned 32-bit integers\n",
    "register_map.text_input_1.text_input = input_buffer.device_address"
   ]
  },
  {
   "cell_type": "markdown",
   "id": "4fab26bc-bcb8-46e2-9151-cfb0c6549d8c",
   "metadata": {},
   "source": [
    "## Hashing functions\n",
    "\n",
    "Define hardware accelerated function and software library function"
   ]
  },
  {
   "cell_type": "code",
   "execution_count": 5,
   "id": "1254ae62-540b-4182-9209-75978e4a122a",
   "metadata": {},
   "outputs": [],
   "source": [
    "import hashlib\n",
    "import array\n",
    "import math\n",
    "import numpy as np\n",
    "\n",
    "# Hardware accelerated function\n",
    "def SHA256_hardware(bstr):\n",
    "    # Set text length\n",
    "    register_map.text_length = len(bstr)\n",
    "    \n",
    "    # Write to input buffer\n",
    "    input_buffer[:len(bstr)] = bytearray(bstr)\n",
    "    #input_buffer.flush()\n",
    "    \n",
    "    # Send start signal\n",
    "    register_map.CTRL.AP_START = 1\n",
    "    \n",
    "    # Wait until algorithm has completed\n",
    "    while (register_map.CTRL.AP_DONE == 0):\n",
    "        pass\n",
    "    \n",
    "    # Retrieve result as a hex string\n",
    "    result = bytearray(result_val)\n",
    "    return result.hex()\n",
    "\n",
    "# Software library function\n",
    "def SHA256_software(bstr):\n",
    "    return hashlib.sha256(bstr).hexdigest()"
   ]
  },
  {
   "cell_type": "markdown",
   "id": "709fcf33-cc0d-488c-993f-af6ec2c9e958",
   "metadata": {},
   "source": [
    "## Test cases\n",
    "\n",
    "Print some known SHA256 test vectors. Run assertions for random bytes arrays while varying the input length."
   ]
  },
  {
   "cell_type": "code",
   "execution_count": 6,
   "id": "060993f0-72ea-496b-b707-4ddb2ac9c80e",
   "metadata": {},
   "outputs": [
    {
     "name": "stdout",
     "output_type": "stream",
     "text": [
      "e3b0c44298fc1c149afbf4c8996fb92427ae41e4649b934ca495991b7852b855\n",
      "e3b0c44298fc1c149afbf4c8996fb92427ae41e4649b934ca495991b7852b855\n",
      "ba7816bf8f01cfea414140de5dae2223b00361a396177a9cb410ff61f20015ad\n",
      "ba7816bf8f01cfea414140de5dae2223b00361a396177a9cb410ff61f20015ad\n",
      "All tests passed\n"
     ]
    }
   ],
   "source": [
    "import secrets\n",
    "\n",
    "# Known test vectors\n",
    "print(SHA256_hardware(b''))\n",
    "print(SHA256_software(b''))\n",
    "print(SHA256_hardware(b'abc'))\n",
    "print(SHA256_software(b'abc'))\n",
    "\n",
    "# Test random lengths of bytes\n",
    "for i in range(0, 512+1):\n",
    "    random_bytes = secrets.token_bytes(i)\n",
    "    hw = SHA256_hardware(random_bytes)\n",
    "    sw = SHA256_software(random_bytes)\n",
    "    assert (hw == sw), (i, hw, sw)\n",
    "\n",
    "print(\"All tests passed\")"
   ]
  },
  {
   "cell_type": "markdown",
   "id": "81b8a0f3-d137-4641-ad0c-6e356a8f790b",
   "metadata": {},
   "source": [
    "## Benchmark\n",
    "\n",
    "Compare the hardware and software implementations. Find out the performance gains."
   ]
  },
  {
   "cell_type": "code",
   "execution_count": 7,
   "id": "72d923d4-5aa7-42fd-b2c6-dde2cff4d7e9",
   "metadata": {},
   "outputs": [
    {
     "name": "stdout",
     "output_type": "stream",
     "text": [
      "157 µs ± 4.93 µs per loop (mean ± std. dev. of 5 runs, 1000 loops each)\n",
      "11.1 µs ± 3.27 µs per loop (mean ± std. dev. of 5 runs, 1000 loops each)\n"
     ]
    }
   ],
   "source": [
    "sw_time = %timeit -n 1000 -r 5 -o SHA256_software(secrets.token_bytes(16))\n",
    "hw_time = %timeit -n 1000 -r 5 -o SHA256_hardware(secrets.token_bytes(16))"
   ]
  },
  {
   "cell_type": "code",
   "execution_count": 8,
   "id": "e2ba1696-e01e-43ca-8b84-d90bd0511a7e",
   "metadata": {},
   "outputs": [
    {
     "name": "stdout",
     "output_type": "stream",
     "text": [
      "Performance gain: 14.140803085604233\n"
     ]
    }
   ],
   "source": [
    "print('Performance gain:', sw_time.average / hw_time.average) "
   ]
  }
 ],
 "metadata": {
  "kernelspec": {
   "display_name": "Python 3",
   "language": "python",
   "name": "python3"
  },
  "language_info": {
   "codemirror_mode": {
    "name": "ipython",
    "version": 3
   },
   "file_extension": ".py",
   "mimetype": "text/x-python",
   "name": "python",
   "nbconvert_exporter": "python",
   "pygments_lexer": "ipython3",
   "version": "3.8.10"
  }
 },
 "nbformat": 4,
 "nbformat_minor": 5
}
